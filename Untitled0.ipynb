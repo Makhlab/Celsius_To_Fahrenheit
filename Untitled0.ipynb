{
  "nbformat": 4,
  "nbformat_minor": 0,
  "metadata": {
    "colab": {
      "name": "Untitled0.ipynb",
      "version": "0.3.2",
      "provenance": []
    },
    "kernelspec": {
      "name": "python3",
      "display_name": "Python 3"
    },
    "accelerator": "GPU"
  },
  "cells": [
    {
      "cell_type": "code",
      "metadata": {
        "id": "l9RnwvpIb7HW",
        "colab_type": "code",
        "colab": {},
        "cellView": "code"
      },
      "source": [
        "#@title Default title text\n",
        "import numpy as np\n",
        "import tensorflow as tf\n",
        "\n",
        "tf.logging.set_verbosity(tf.logging.ERROR)\n",
        "\n",
        "celsius_q    = np.array([-40, -10,  0,  8, 15, 22,  38], dtype=float)\n",
        "fahrenheit_a = np.array([-40,  14, 32, 46, 59, 72, 100], dtype=float)\n",
        "\n",
        "# for i, c in enumerate(celsius_q):\n",
        "#   print(\"{}     = {}\".format(c, fahrenheit_a[i]))\n",
        "  \n",
        "l0 =  tf.keras.layers.Dense(units = 1, input_shape = [1]);\n",
        "model = tf.keras.Sequential([\n",
        "  l0\n",
        "]);\n",
        "\n",
        "model.compile(loss=\"mean_squared_error\",\n",
        "              optimizer=tf.keras.optimizers.Adam(0.1))\n",
        "\n",
        "history = model.fit(celsius_q, fahrenheit_a, epochs=500, verbose=True)\n",
        "\n",
        "\n"
      ],
      "execution_count": 0,
      "outputs": []
    },
    {
      "cell_type": "code",
      "metadata": {
        "id": "Nacjel2kpnOX",
        "colab_type": "code",
        "colab": {
          "base_uri": "https://localhost:8080/",
          "height": 51
        },
        "outputId": "62c85ae8-c334-43bb-fd80-a78b585d4f7f"
      },
      "source": [
        "val = model.predict([100.00])\n",
        "print(val)\n",
        "\n",
        "# internal variables\n",
        "print(l0.get_weights())"
      ],
      "execution_count": 13,
      "outputs": [
        {
          "output_type": "stream",
          "text": [
            "[[211.33833]]\n",
            "[array([[1.8201882]], dtype=float32), array([29.319515], dtype=float32)]\n"
          ],
          "name": "stdout"
        }
      ]
    }
  ]
}